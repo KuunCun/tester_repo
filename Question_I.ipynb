{
 "cells": [
  {
   "cell_type": "raw",
   "id": "01026289-8794-4399-b1ab-524bd384db83",
   "metadata": {},
   "source": [
    "---\n",
    "title: \"Question I\"\n",
    "subtitle: \"Handling Missing Data in Regression Problems\"\n",
    "author: \"Author Name\"\n",
    "date: \"December 7, 2023\"\n",
    "---"
   ]
  },
  {
   "cell_type": "markdown",
   "id": "9a79b924-4f19-4e0b-8e41-c6b1449ead17",
   "metadata": {},
   "source": []
  },
  {
   "cell_type": "markdown",
   "id": "a797e1c7-1f78-488a-9fd8-2604659c9acd",
   "metadata": {},
   "source": [
    "## Instructions to follow:\n",
    "\n",
    "- Please include all your codes here. Be sure that your code is CLEAN, READABLE, and REPRODUCIBLE.\n",
    "- Put your data set (if available) into a **datasets** folder.\n",
    "- Put your images (if available) into an **img** folder.\n",
    "- Please write YOUR OWN code. **DO NOT copy** my codes or someone else's codes."
   ]
  },
  {
   "cell_type": "code",
   "execution_count": 74,
   "outputs": [],
   "source": [
    "# Import libraries\n",
    "import pandas as pd\n",
    "# used in B) for splitting the data set\n",
    "from sklearn.model_selection import train_test_split\n",
    "# used in C) for drawing the histogram\n",
    "import matplotlib.pyplot as plt\n",
    "# used in D) for imputing the missing values\n",
    "from sklearn.compose import ColumnTransformer\n",
    "from sklearn.impute import SimpleImputer\n",
    "from sklearn.preprocessing import OneHotEncoder\n",
    "from sklearn.impute import KNNImputer\n",
    "# used in E) for creating the pipelines\n",
    "from sklearn.pipeline import Pipeline\n",
    "from sklearn.linear_model import LinearRegression"
   ],
   "metadata": {
    "collapsed": false,
    "ExecuteTime": {
     "end_time": "2023-12-07T15:28:58.993985394Z",
     "start_time": "2023-12-07T15:28:58.874201223Z"
    }
   },
   "id": "fc127a0f6da2c25d"
  },
  {
   "cell_type": "markdown",
   "source": [
    "**Q1)**  The **INSURANCE** dataset comprises 1,338 records related to medical insurance. The _target variable_ is the individual medical costs billed by health insurance, denoted as _charges_. The remaining columns encompass personal details, including _age_, _gender_, _bmi_, _number of children_, and _smoking status_."
   ],
   "metadata": {},
   "id": "40e78bbb-2c80-47d9-9b2d-e6914d5e2c55"
  },
  {
   "cell_type": "markdown",
   "source": [
    "**a)**  Load the data set, inspect its size and variable types, and investigate the presence of missing values."
   ],
   "metadata": {},
   "id": "92aa6ebc-ec69-49c8-ac84-e6038610cc88"
  },
  {
   "cell_type": "markdown",
   "source": [
    "**ANSWER IS HERE**"
   ],
   "metadata": {},
   "id": "cf27137f-5656-4fc5-965d-cd2ebc7e17bf"
  },
  {
   "cell_type": "code",
   "execution_count": 75,
   "outputs": [
    {
     "data": {
      "text/plain": "   age     sex     bmi  children smoker       charges\n0   19  female     NaN         0    yes  4.371428e+06\n1   18    male  33.770         1     no  7.736119e+06\n2   28    male  33.000         3     no  7.220400e+06\n3   33    male  22.705         0     no  2.363668e+06\n4   32    male  28.880         0     no  4.846378e+06",
      "text/html": "<div>\n<style scoped>\n    .dataframe tbody tr th:only-of-type {\n        vertical-align: middle;\n    }\n\n    .dataframe tbody tr th {\n        vertical-align: top;\n    }\n\n    .dataframe thead th {\n        text-align: right;\n    }\n</style>\n<table border=\"1\" class=\"dataframe\">\n  <thead>\n    <tr style=\"text-align: right;\">\n      <th></th>\n      <th>age</th>\n      <th>sex</th>\n      <th>bmi</th>\n      <th>children</th>\n      <th>smoker</th>\n      <th>charges</th>\n    </tr>\n  </thead>\n  <tbody>\n    <tr>\n      <th>0</th>\n      <td>19</td>\n      <td>female</td>\n      <td>NaN</td>\n      <td>0</td>\n      <td>yes</td>\n      <td>4.371428e+06</td>\n    </tr>\n    <tr>\n      <th>1</th>\n      <td>18</td>\n      <td>male</td>\n      <td>33.770</td>\n      <td>1</td>\n      <td>no</td>\n      <td>7.736119e+06</td>\n    </tr>\n    <tr>\n      <th>2</th>\n      <td>28</td>\n      <td>male</td>\n      <td>33.000</td>\n      <td>3</td>\n      <td>no</td>\n      <td>7.220400e+06</td>\n    </tr>\n    <tr>\n      <th>3</th>\n      <td>33</td>\n      <td>male</td>\n      <td>22.705</td>\n      <td>0</td>\n      <td>no</td>\n      <td>2.363668e+06</td>\n    </tr>\n    <tr>\n      <th>4</th>\n      <td>32</td>\n      <td>male</td>\n      <td>28.880</td>\n      <td>0</td>\n      <td>no</td>\n      <td>4.846378e+06</td>\n    </tr>\n  </tbody>\n</table>\n</div>"
     },
     "execution_count": 75,
     "metadata": {},
     "output_type": "execute_result"
    }
   ],
   "source": [
    "# Open the data set\n",
    "raw_data = pd.read_csv('insurance_miss.csv')\n",
    "raw_data.head()"
   ],
   "metadata": {
    "collapsed": false,
    "ExecuteTime": {
     "end_time": "2023-12-07T15:28:58.997720697Z",
     "start_time": "2023-12-07T15:28:58.962958555Z"
    }
   },
   "id": "c8bd2ca6fdf71c14"
  },
  {
   "cell_type": "code",
   "execution_count": 76,
   "outputs": [
    {
     "data": {
      "text/plain": "(1338, 6)"
     },
     "execution_count": 76,
     "metadata": {},
     "output_type": "execute_result"
    }
   ],
   "source": [
    "# Check the size of the data set\n",
    "raw_data.shape"
   ],
   "metadata": {
    "collapsed": false,
    "ExecuteTime": {
     "end_time": "2023-12-07T15:28:59.078709610Z",
     "start_time": "2023-12-07T15:28:59.000719913Z"
    }
   },
   "id": "6f0bf720ffd3487f"
  },
  {
   "cell_type": "code",
   "execution_count": 77,
   "outputs": [
    {
     "name": "stdout",
     "output_type": "stream",
     "text": [
      "<class 'pandas.core.frame.DataFrame'>\n",
      "RangeIndex: 1338 entries, 0 to 1337\n",
      "Data columns (total 6 columns):\n",
      " #   Column    Non-Null Count  Dtype  \n",
      "---  ------    --------------  -----  \n",
      " 0   age       1338 non-null   int64  \n",
      " 1   sex       1338 non-null   object \n",
      " 2   bmi       1071 non-null   float64\n",
      " 3   children  1338 non-null   int64  \n",
      " 4   smoker    1338 non-null   object \n",
      " 5   charges   1338 non-null   float64\n",
      "dtypes: float64(2), int64(2), object(2)\n",
      "memory usage: 62.8+ KB\n"
     ]
    }
   ],
   "source": [
    "# Check the data types\n",
    "raw_data.info()"
   ],
   "metadata": {
    "collapsed": false,
    "ExecuteTime": {
     "end_time": "2023-12-07T15:28:59.116080371Z",
     "start_time": "2023-12-07T15:28:59.062857547Z"
    }
   },
   "id": "e2a98f48728578fb"
  },
  {
   "cell_type": "code",
   "execution_count": 78,
   "outputs": [
    {
     "data": {
      "text/plain": "age           0\nsex           0\nbmi         267\nchildren      0\nsmoker        0\ncharges       0\ndtype: int64"
     },
     "execution_count": 78,
     "metadata": {},
     "output_type": "execute_result"
    }
   ],
   "source": [
    "# Check the missing values & their counts\n",
    "raw_data.isnull().sum()"
   ],
   "metadata": {
    "collapsed": false,
    "ExecuteTime": {
     "end_time": "2023-12-07T15:28:59.149049241Z",
     "start_time": "2023-12-07T15:28:59.083676767Z"
    }
   },
   "id": "f8afc65df97c2333"
  },
  {
   "cell_type": "markdown",
   "id": "d75fd6be-5eb8-4f73-994e-95a4f244774a",
   "metadata": {},
   "source": [
    "**b)** We aim to develop a multiple linear regression model predicting _charges_ based on features such as _age_, _gender_, _bmi_, _number of children_, and _smoking status_. Arrange your _feature matrix_ and _target vector_ accordingly. Split your _feature matrix_ and _target vector_ into test and train sets with a splitting ratio of _0.2_ and _random_state=1773_."
   ]
  },
  {
   "cell_type": "markdown",
   "id": "2eb9c5d6-8778-48d3-88e1-f251b07f0de0",
   "metadata": {},
   "source": [
    "**ANSWER IS HERE**"
   ]
  },
  {
   "cell_type": "code",
   "execution_count": 79,
   "outputs": [],
   "source": [
    "# Arrange the feature matrix and target vector\n",
    "features_X = raw_data.drop('charges', axis=1)\n",
    "target_y = raw_data['charges']"
   ],
   "metadata": {
    "collapsed": false,
    "ExecuteTime": {
     "end_time": "2023-12-07T15:28:59.178057072Z",
     "start_time": "2023-12-07T15:28:59.149439988Z"
    }
   },
   "id": "3bfd67364ee0eea2"
  },
  {
   "cell_type": "code",
   "execution_count": 80,
   "outputs": [],
   "source": [
    "# Split the data set into train and test sets\n",
    "X_train, X_test, y_train, y_test = train_test_split(features_X, target_y,\n",
    "                                                    test_size=0.2,\n",
    "                                                    random_state=1773)"
   ],
   "metadata": {
    "collapsed": false,
    "ExecuteTime": {
     "end_time": "2023-12-07T15:28:59.201497945Z",
     "start_time": "2023-12-07T15:28:59.177807261Z"
    }
   },
   "id": "9effc6cf4e8b69a4"
  },
  {
   "cell_type": "code",
   "execution_count": 81,
   "outputs": [
    {
     "name": "stdout",
     "output_type": "stream",
     "text": [
      "(1070, 5) (1070,)\n",
      "(268, 5) (268,)\n"
     ]
    }
   ],
   "source": [
    "# Check the size of the train and test sets\n",
    "print(X_train.shape, y_train.shape)\n",
    "print(X_test.shape, y_test.shape)"
   ],
   "metadata": {
    "collapsed": false,
    "ExecuteTime": {
     "end_time": "2023-12-07T15:28:59.218044978Z",
     "start_time": "2023-12-07T15:28:59.201502133Z"
    }
   },
   "id": "8416605ac13791b8"
  },
  {
   "cell_type": "markdown",
   "id": "7a00458d-0442-4cc0-ab09-5c118ae49f93",
   "metadata": {},
   "source": [
    "**c)** Draw a histogram for the bmi variable and provide comment on its distribution."
   ]
  },
  {
   "cell_type": "markdown",
   "id": "910544cc-36c1-4575-916a-b6fa03c04597",
   "metadata": {},
   "source": [
    "**ANSWER IS HERE**"
   ]
  },
  {
   "cell_type": "code",
   "execution_count": 82,
   "outputs": [
    {
     "data": {
      "text/plain": "<Figure size 640x480 with 1 Axes>",
      "image/png": "[encoded data removed]"
     },
     "metadata": {},
     "output_type": "display_data"
    }
   ],
   "source": [
    "# Draw a histogram for the bmi variable\n",
    "plt.hist(raw_data['bmi'], bins=20)\n",
    "plt.xlabel('bmi')\n",
    "plt.ylabel('Frequency')\n",
    "plt.show()"
   ],
   "metadata": {
    "collapsed": false,
    "ExecuteTime": {
     "end_time": "2023-12-07T15:28:59.437929250Z",
     "start_time": "2023-12-07T15:28:59.213749759Z"
    }
   },
   "id": "54ba4dd7d1ccc60b"
  },
  {
   "cell_type": "code",
   "execution_count": 83,
   "outputs": [
    {
     "data": {
      "text/plain": "count    1071.000000\nmean       30.806783\nstd         6.084995\nmin        16.815000\n25%        26.457500\n50%        30.500000\n75%        34.832500\nmax        53.130000\nName: bmi, dtype: float64"
     },
     "execution_count": 83,
     "metadata": {},
     "output_type": "execute_result"
    }
   ],
   "source": [
    "# Check the descriptive statistics of the bmi variable\n",
    "raw_data['bmi'].describe()"
   ],
   "metadata": {
    "collapsed": false,
    "ExecuteTime": {
     "end_time": "2023-12-07T15:28:59.442966889Z",
     "start_time": "2023-12-07T15:28:59.399834634Z"
    }
   },
   "id": "3dc33c20b639d224"
  },
  {
   "cell_type": "markdown",
   "source": [
    "Comment on the distribution of the bmi variable:\n",
    "The distribution of the bmi variable is approximately normal. The mean and median are close to each other. The standard deviation is relatively small. The minimum and maximum values are not too far from the mean, only a few large values can be an outlier. The histogram is almost symmetric. "
   ],
   "metadata": {
    "collapsed": false
   },
   "id": "cd06f316e95b4aa5"
  },
  {
   "cell_type": "markdown",
   "id": "72323dbd-1fab-46f1-9793-08ca3d3dc6e8",
   "metadata": {},
   "source": [
    "**d)** Identify the numerical features and categorical features in your data and create three different **ColumnTransformer** for pre-processing, where numerical features are imputed with:\n",
    "\n",
    "1) SimpleImputer(strategy='mean')\n",
    "2) SimpleImputer(strategy='median')\n",
    "3) KNNImputer(n_neighbors=3), respectively, \n",
    "\n",
    "and binary feautures are encoded with **OneHotEncoder** only."
   ]
  },
  {
   "cell_type": "markdown",
   "id": "b870422b-0609-496e-aa3e-83aa258cd0b6",
   "metadata": {},
   "source": [
    "**ANSWER IS HERE**"
   ]
  },
  {
   "cell_type": "code",
   "execution_count": 84,
   "outputs": [],
   "source": [
    "# Identify the numerical features and categorical features\n",
    "numerical_features = ['age', 'bmi', 'children']\n",
    "categorical_features = ['sex', 'smoker']"
   ],
   "metadata": {
    "collapsed": false,
    "ExecuteTime": {
     "end_time": "2023-12-07T15:28:59.467010710Z",
     "start_time": "2023-12-07T15:28:59.400369402Z"
    }
   },
   "id": "1283f49d29b69462"
  },
  {
   "cell_type": "code",
   "execution_count": 85,
   "outputs": [],
   "source": [
    "# Create the first ColumnTransformer\n",
    "ct1 = ColumnTransformer([\n",
    "    ('imputer', SimpleImputer(strategy='mean'), numerical_features),\n",
    "    ('encoder', OneHotEncoder(), categorical_features)\n",
    "], remainder='passthrough')"
   ],
   "metadata": {
    "collapsed": false,
    "ExecuteTime": {
     "end_time": "2023-12-07T15:28:59.469345402Z",
     "start_time": "2023-12-07T15:28:59.400782141Z"
    }
   },
   "id": "c129ba49b362f354"
  },
  {
   "cell_type": "code",
   "execution_count": 86,
   "outputs": [],
   "source": [
    "# Create the second ColumnTransformer\n",
    "ct2 = ColumnTransformer([\n",
    "    ('imputer', SimpleImputer(strategy='median'), numerical_features),\n",
    "    ('encoder', OneHotEncoder(), categorical_features)\n",
    "], remainder='passthrough')"
   ],
   "metadata": {
    "collapsed": false,
    "ExecuteTime": {
     "end_time": "2023-12-07T15:28:59.489803030Z",
     "start_time": "2023-12-07T15:28:59.401145997Z"
    }
   },
   "id": "f01535855f82c0f2"
  },
  {
   "cell_type": "code",
   "execution_count": 87,
   "outputs": [],
   "source": [
    "# Create the third ColumnTransformer\n",
    "ct3 = ColumnTransformer([\n",
    "    ('imputer', KNNImputer(n_neighbors=3), numerical_features),\n",
    "    ('encoder', OneHotEncoder(), categorical_features)\n",
    "], remainder='passthrough')"
   ],
   "metadata": {
    "collapsed": false,
    "ExecuteTime": {
     "end_time": "2023-12-07T15:28:59.491789886Z",
     "start_time": "2023-12-07T15:28:59.401516656Z"
    }
   },
   "id": "82de4265d28a6847"
  },
  {
   "cell_type": "markdown",
   "id": "bf5b894d-a6ce-4c3c-a319-ca50cae130ef",
   "metadata": {},
   "source": [
    "**e)** Create a pipeline for each pre-processor, integrating it with a linear regression model as the final estimator."
   ]
  },
  {
   "cell_type": "markdown",
   "id": "3265a867-0558-4fc5-8347-168c79733a30",
   "metadata": {},
   "source": [
    "**ANSWER IS HERE**"
   ]
  },
  {
   "cell_type": "code",
   "execution_count": 88,
   "outputs": [],
   "source": [
    "# Create the first pipeline\n",
    "pipe1 = Pipeline([\n",
    "    ('preprocessor', ct1),\n",
    "    ('regressor', LinearRegression())\n",
    "])"
   ],
   "metadata": {
    "collapsed": false,
    "ExecuteTime": {
     "end_time": "2023-12-07T15:28:59.493836536Z",
     "start_time": "2023-12-07T15:28:59.401944092Z"
    }
   },
   "id": "2a10acb3fec4f3b8"
  },
  {
   "cell_type": "code",
   "execution_count": 89,
   "outputs": [],
   "source": [
    "# Create the second pipeline\n",
    "pipe2 = Pipeline([\n",
    "    ('preprocessor', ct2),\n",
    "    ('regressor', LinearRegression())\n",
    "])"
   ],
   "metadata": {
    "collapsed": false,
    "ExecuteTime": {
     "end_time": "2023-12-07T15:28:59.566824511Z",
     "start_time": "2023-12-07T15:28:59.438931229Z"
    }
   },
   "id": "c38847d0219f343b"
  },
  {
   "cell_type": "code",
   "execution_count": 90,
   "outputs": [],
   "source": [
    "# Create the third pipeline\n",
    "pipe3 = Pipeline([\n",
    "    ('preprocessor', ct3),\n",
    "    ('regressor', LinearRegression())\n",
    "])"
   ],
   "metadata": {
    "collapsed": false,
    "ExecuteTime": {
     "end_time": "2023-12-07T15:28:59.596917618Z",
     "start_time": "2023-12-07T15:28:59.439140113Z"
    }
   },
   "id": "fddd741aad7a2abe"
  },
  {
   "cell_type": "markdown",
   "id": "754094eb-5a25-451d-882d-a25a070bf9ca",
   "metadata": {},
   "source": [
    "**f)** Calculate and report the $R^2$ values for each constructed model on both the training and testing data sets. "
   ]
  },
  {
   "cell_type": "markdown",
   "id": "35bc44af-dd84-4b20-b348-2f598968dc26",
   "metadata": {},
   "source": [
    "**ANSWER IS HERE**"
   ]
  },
  {
   "cell_type": "code",
   "execution_count": 91,
   "outputs": [
    {
     "data": {
      "text/plain": "Pipeline(steps=[('preprocessor',\n                 ColumnTransformer(remainder='passthrough',\n                                   transformers=[('imputer',\n                                                  KNNImputer(n_neighbors=3),\n                                                  ['age', 'bmi', 'children']),\n                                                 ('encoder', OneHotEncoder(),\n                                                  ['sex', 'smoker'])])),\n                ('regressor', LinearRegression())])",
      "text/html": "<style>#sk-container-id-4 {color: black;}#sk-container-id-4 pre{padding: 0;}#sk-container-id-4 div.sk-toggleable {background-color: white;}#sk-container-id-4 label.sk-toggleable__label {cursor: pointer;display: block;width: 100%;margin-bottom: 0;padding: 0.3em;box-sizing: border-box;text-align: center;}#sk-container-id-4 label.sk-toggleable__label-arrow:before {content: \"▸\";float: left;margin-right: 0.25em;color: #696969;}#sk-container-id-4 label.sk-toggleable__label-arrow:hover:before {color: black;}#sk-container-id-4 div.sk-estimator:hover label.sk-toggleable__label-arrow:before {color: black;}#sk-container-id-4 div.sk-toggleable__content {max-height: 0;max-width: 0;overflow: hidden;text-align: left;background-color: #f0f8ff;}#sk-container-id-4 div.sk-toggleable__content pre {margin: 0.2em;color: black;border-radius: 0.25em;background-color: #f0f8ff;}#sk-container-id-4 input.sk-toggleable__control:checked~div.sk-toggleable__content {max-height: 200px;max-width: 100%;overflow: auto;}#sk-container-id-4 input.sk-toggleable__control:checked~label.sk-toggleable__label-arrow:before {content: \"▾\";}#sk-container-id-4 div.sk-estimator input.sk-toggleable__control:checked~label.sk-toggleable__label {background-color: #d4ebff;}#sk-container-id-4 div.sk-label input.sk-toggleable__control:checked~label.sk-toggleable__label {background-color: #d4ebff;}#sk-container-id-4 input.sk-hidden--visually {border: 0;clip: rect(1px 1px 1px 1px);clip: rect(1px, 1px, 1px, 1px);height: 1px;margin: -1px;overflow: hidden;padding: 0;position: absolute;width: 1px;}#sk-container-id-4 div.sk-estimator {font-family: monospace;background-color: #f0f8ff;border: 1px dotted black;border-radius: 0.25em;box-sizing: border-box;margin-bottom: 0.5em;}#sk-container-id-4 div.sk-estimator:hover {background-color: #d4ebff;}#sk-container-id-4 div.sk-parallel-item::after {content: \"\";width: 100%;border-bottom: 1px solid gray;flex-grow: 1;}#sk-container-id-4 div.sk-label:hover label.sk-toggleable__label {background-color: #d4ebff;}#sk-container-id-4 div.sk-serial::before {content: \"\";position: absolute;border-left: 1px solid gray;box-sizing: border-box;top: 0;bottom: 0;left: 50%;z-index: 0;}#sk-container-id-4 div.sk-serial {display: flex;flex-direction: column;align-items: center;background-color: white;padding-right: 0.2em;padding-left: 0.2em;position: relative;}#sk-container-id-4 div.sk-item {position: relative;z-index: 1;}#sk-container-id-4 div.sk-parallel {display: flex;align-items: stretch;justify-content: center;background-color: white;position: relative;}#sk-container-id-4 div.sk-item::before, #sk-container-id-4 div.sk-parallel-item::before {content: \"\";position: absolute;border-left: 1px solid gray;box-sizing: border-box;top: 0;bottom: 0;left: 50%;z-index: -1;}#sk-container-id-4 div.sk-parallel-item {display: flex;flex-direction: column;z-index: 1;position: relative;background-color: white;}#sk-container-id-4 div.sk-parallel-item:first-child::after {align-self: flex-end;width: 50%;}#sk-container-id-4 div.sk-parallel-item:last-child::after {align-self: flex-start;width: 50%;}#sk-container-id-4 div.sk-parallel-item:only-child::after {width: 0;}#sk-container-id-4 div.sk-dashed-wrapped {border: 1px dashed gray;margin: 0 0.4em 0.5em 0.4em;box-sizing: border-box;padding-bottom: 0.4em;background-color: white;}#sk-container-id-4 div.sk-label label {font-family: monospace;font-weight: bold;display: inline-block;line-height: 1.2em;}#sk-container-id-4 div.sk-label-container {text-align: center;}#sk-container-id-4 div.sk-container {/* jupyter's `normalize.less` sets `[hidden] { display: none; }` but bootstrap.min.css set `[hidden] { display: none !important; }` so we also need the `!important` here to be able to override the default hidden behavior on the sphinx rendered scikit-learn.org. See: https://github.com/scikit-learn/scikit-learn/issues/21755 */display: inline-block !important;position: relative;}#sk-container-id-4 div.sk-text-repr-fallback {display: none;}</style><div id=\"sk-container-id-4\" class=\"sk-top-container\"><div class=\"sk-text-repr-fallback\"><pre>Pipeline(steps=[(&#x27;preprocessor&#x27;,\n                 ColumnTransformer(remainder=&#x27;passthrough&#x27;,\n                                   transformers=[(&#x27;imputer&#x27;,\n                                                  KNNImputer(n_neighbors=3),\n                                                  [&#x27;age&#x27;, &#x27;bmi&#x27;, &#x27;children&#x27;]),\n                                                 (&#x27;encoder&#x27;, OneHotEncoder(),\n                                                  [&#x27;sex&#x27;, &#x27;smoker&#x27;])])),\n                (&#x27;regressor&#x27;, LinearRegression())])</pre><b>In a Jupyter environment, please rerun this cell to show the HTML representation or trust the notebook. <br />On GitHub, the HTML representation is unable to render, please try loading this page with nbviewer.org.</b></div><div class=\"sk-container\" hidden><div class=\"sk-item sk-dashed-wrapped\"><div class=\"sk-label-container\"><div class=\"sk-label sk-toggleable\"><input class=\"sk-toggleable__control sk-hidden--visually\" id=\"sk-estimator-id-28\" type=\"checkbox\" ><label for=\"sk-estimator-id-28\" class=\"sk-toggleable__label sk-toggleable__label-arrow\">Pipeline</label><div class=\"sk-toggleable__content\"><pre>Pipeline(steps=[(&#x27;preprocessor&#x27;,\n                 ColumnTransformer(remainder=&#x27;passthrough&#x27;,\n                                   transformers=[(&#x27;imputer&#x27;,\n                                                  KNNImputer(n_neighbors=3),\n                                                  [&#x27;age&#x27;, &#x27;bmi&#x27;, &#x27;children&#x27;]),\n                                                 (&#x27;encoder&#x27;, OneHotEncoder(),\n                                                  [&#x27;sex&#x27;, &#x27;smoker&#x27;])])),\n                (&#x27;regressor&#x27;, LinearRegression())])</pre></div></div></div><div class=\"sk-serial\"><div class=\"sk-item sk-dashed-wrapped\"><div class=\"sk-label-container\"><div class=\"sk-label sk-toggleable\"><input class=\"sk-toggleable__control sk-hidden--visually\" id=\"sk-estimator-id-29\" type=\"checkbox\" ><label for=\"sk-estimator-id-29\" class=\"sk-toggleable__label sk-toggleable__label-arrow\">preprocessor: ColumnTransformer</label><div class=\"sk-toggleable__content\"><pre>ColumnTransformer(remainder=&#x27;passthrough&#x27;,\n                  transformers=[(&#x27;imputer&#x27;, KNNImputer(n_neighbors=3),\n                                 [&#x27;age&#x27;, &#x27;bmi&#x27;, &#x27;children&#x27;]),\n                                (&#x27;encoder&#x27;, OneHotEncoder(),\n                                 [&#x27;sex&#x27;, &#x27;smoker&#x27;])])</pre></div></div></div><div class=\"sk-parallel\"><div class=\"sk-parallel-item\"><div class=\"sk-item\"><div class=\"sk-label-container\"><div class=\"sk-label sk-toggleable\"><input class=\"sk-toggleable__control sk-hidden--visually\" id=\"sk-estimator-id-30\" type=\"checkbox\" ><label for=\"sk-estimator-id-30\" class=\"sk-toggleable__label sk-toggleable__label-arrow\">imputer</label><div class=\"sk-toggleable__content\"><pre>[&#x27;age&#x27;, &#x27;bmi&#x27;, &#x27;children&#x27;]</pre></div></div></div><div class=\"sk-serial\"><div class=\"sk-item\"><div class=\"sk-estimator sk-toggleable\"><input class=\"sk-toggleable__control sk-hidden--visually\" id=\"sk-estimator-id-31\" type=\"checkbox\" ><label for=\"sk-estimator-id-31\" class=\"sk-toggleable__label sk-toggleable__label-arrow\">KNNImputer</label><div class=\"sk-toggleable__content\"><pre>KNNImputer(n_neighbors=3)</pre></div></div></div></div></div></div><div class=\"sk-parallel-item\"><div class=\"sk-item\"><div class=\"sk-label-container\"><div class=\"sk-label sk-toggleable\"><input class=\"sk-toggleable__control sk-hidden--visually\" id=\"sk-estimator-id-32\" type=\"checkbox\" ><label for=\"sk-estimator-id-32\" class=\"sk-toggleable__label sk-toggleable__label-arrow\">encoder</label><div class=\"sk-toggleable__content\"><pre>[&#x27;sex&#x27;, &#x27;smoker&#x27;]</pre></div></div></div><div class=\"sk-serial\"><div class=\"sk-item\"><div class=\"sk-estimator sk-toggleable\"><input class=\"sk-toggleable__control sk-hidden--visually\" id=\"sk-estimator-id-33\" type=\"checkbox\" ><label for=\"sk-estimator-id-33\" class=\"sk-toggleable__label sk-toggleable__label-arrow\">OneHotEncoder</label><div class=\"sk-toggleable__content\"><pre>OneHotEncoder()</pre></div></div></div></div></div></div><div class=\"sk-parallel-item\"><div class=\"sk-item\"><div class=\"sk-label-container\"><div class=\"sk-label sk-toggleable\"><input class=\"sk-toggleable__control sk-hidden--visually\" id=\"sk-estimator-id-34\" type=\"checkbox\" ><label for=\"sk-estimator-id-34\" class=\"sk-toggleable__label sk-toggleable__label-arrow\">remainder</label><div class=\"sk-toggleable__content\"><pre>[]</pre></div></div></div><div class=\"sk-serial\"><div class=\"sk-item\"><div class=\"sk-estimator sk-toggleable\"><input class=\"sk-toggleable__control sk-hidden--visually\" id=\"sk-estimator-id-35\" type=\"checkbox\" ><label for=\"sk-estimator-id-35\" class=\"sk-toggleable__label sk-toggleable__label-arrow\">passthrough</label><div class=\"sk-toggleable__content\"><pre>passthrough</pre></div></div></div></div></div></div></div></div><div class=\"sk-item\"><div class=\"sk-estimator sk-toggleable\"><input class=\"sk-toggleable__control sk-hidden--visually\" id=\"sk-estimator-id-36\" type=\"checkbox\" ><label for=\"sk-estimator-id-36\" class=\"sk-toggleable__label sk-toggleable__label-arrow\">LinearRegression</label><div class=\"sk-toggleable__content\"><pre>LinearRegression()</pre></div></div></div></div></div></div></div>"
     },
     "execution_count": 91,
     "metadata": {},
     "output_type": "execute_result"
    }
   ],
   "source": [
    "# Fit the pipelines\n",
    "pipe1.fit(X_train, y_train)\n",
    "pipe2.fit(X_train, y_train)\n",
    "pipe3.fit(X_train, y_train)"
   ],
   "metadata": {
    "collapsed": false,
    "ExecuteTime": {
     "end_time": "2023-12-07T15:28:59.618518592Z",
     "start_time": "2023-12-07T15:28:59.442713752Z"
    }
   },
   "id": "84d2c105fc62d3ee"
  },
  {
   "cell_type": "code",
   "execution_count": 92,
   "outputs": [
    {
     "name": "stdout",
     "output_type": "stream",
     "text": [
      "R^2 for the first model on the training data set: 0.770\n",
      "R^2 for the second model on the training data set: 0.773\n",
      "R^2 for the third model on the training data set: 0.704\n"
     ]
    }
   ],
   "source": [
    "# Calculate the R^2 values for each constructed model on the training data set\n",
    "print('R^2 for the first model on the training data set: {:.3f}'.format(pipe1.score(X_train, y_train)))\n",
    "print('R^2 for the second model on the training data set: {:.3f}'.format(pipe2.score(X_train, y_train)))\n",
    "print('R^2 for the third model on the training data set: {:.3f}'.format(pipe3.score(X_train, y_train)))"
   ],
   "metadata": {
    "collapsed": false,
    "ExecuteTime": {
     "end_time": "2023-12-07T15:28:59.621228171Z",
     "start_time": "2023-12-07T15:28:59.472470706Z"
    }
   },
   "id": "5239ab9abbeefe32"
  },
  {
   "cell_type": "markdown",
   "id": "0aee5da7-41dc-4992-8fe0-616eb7e74e03",
   "metadata": {},
   "source": [
    "**g)** Analyze and compare the obtained results. Why do the first two models have similar performance? How can the performance of the last model be improved?"
   ]
  },
  {
   "cell_type": "markdown",
   "id": "bd5ae12c-ad38-44bb-906f-752b13d8acc4",
   "metadata": {},
   "source": [
    "**ANSWER IS HERE**"
   ]
  },
  {
   "cell_type": "markdown",
   "source": [
    "The first two models have similar performance because they both use same imputation method, which is filling the missing values with the mean or median of the columnn and mean and median values are close to each other. The third model uses the KNNImputer to impute the missing values. The performance of the last model can be improved by increasing the number of neighbors in the KNNImputer. It will make the imputation selection more accurate ,thus missing values will be filled with more related values among the neighbors and it avoids the risk of overfitting."
   ],
   "metadata": {
    "collapsed": false
   },
   "id": "c339db84f4e6bda1"
  }
 ],
 "metadata": {
  "kernelspec": {
   "display_name": "Python 3 (ipykernel)",
   "language": "python",
   "name": "python3"
  },
  "language_info": {
   "codemirror_mode": {
    "name": "ipython",
    "version": 3
   },
   "file_extension": ".py",
   "mimetype": "text/x-python",
   "name": "python",
   "nbconvert_exporter": "python",
   "pygments_lexer": "ipython3",
   "version": "3.8.8"
  }
 },
 "nbformat": 4,
 "nbformat_minor": 5
}
